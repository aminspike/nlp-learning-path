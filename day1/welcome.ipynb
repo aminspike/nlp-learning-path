{
 "cells": [
  {
   "cell_type": "code",
   "execution_count": 2,
   "id": "206bdfbe-74c1-42e5-af5c-8f83d8bdbb5b",
   "metadata": {},
   "outputs": [],
   "source": [
    "#First day of NLP learning 🚀"
   ]
  },
  {
   "cell_type": "code",
   "execution_count": null,
   "id": "7afced4d-5bb5-4cc5-a288-f96c858fa5e5",
   "metadata": {},
   "outputs": [],
   "source": []
  }
 ],
 "metadata": {
  "kernelspec": {
   "display_name": "Python 3 (ipykernel)",
   "language": "python",
   "name": "python3"
  },
  "language_info": {
   "codemirror_mode": {
    "name": "ipython",
    "version": 3
   },
   "file_extension": ".py",
   "mimetype": "text/x-python",
   "name": "python",
   "nbconvert_exporter": "python",
   "pygments_lexer": "ipython3",
   "version": "3.13.0"
  }
 },
 "nbformat": 4,
 "nbformat_minor": 5
}
